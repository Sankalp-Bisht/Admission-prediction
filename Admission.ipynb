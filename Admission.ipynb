{
  "nbformat": 4,
  "nbformat_minor": 0,
  "metadata": {
    "colab": {
      "name": "Admission.ipynb",
      "provenance": [],
      "collapsed_sections": [],
      "toc_visible": true
    },
    "kernelspec": {
      "name": "python3",
      "display_name": "Python 3"
    }
  },
  "cells": [
    {
      "cell_type": "code",
      "metadata": {
        "id": "wUWoq7sk2kFH",
        "colab_type": "code",
        "colab": {}
      },
      "source": [
        "import pandas as pd\n",
        "import numpy as np\n",
        "import matplotlib.pyplot as plt\n",
        "import sklearn\n",
        "import math\n",
        "\n",
        "from pylab import rcParams"
      ],
      "execution_count": 0,
      "outputs": []
    },
    {
      "cell_type": "code",
      "metadata": {
        "id": "14DACNw73lMt",
        "colab_type": "code",
        "colab": {}
      },
      "source": [
        "%matplotlib inline\n",
        "rcParams['figure.figsize']=5,4"
      ],
      "execution_count": 0,
      "outputs": []
    },
    {
      "cell_type": "code",
      "metadata": {
        "id": "eo8tay923wVq",
        "colab_type": "code",
        "colab": {}
      },
      "source": [
        "dataset=pd.read_csv('Admission_Predict.csv')"
      ],
      "execution_count": 0,
      "outputs": []
    },
    {
      "cell_type": "code",
      "metadata": {
        "id": "dt9uvFb13-RD",
        "colab_type": "code",
        "outputId": "fb8ba51d-9f72-4ad3-ed95-a9b9449197e3",
        "colab": {
          "base_uri": "https://localhost:8080/",
          "height": 202
        }
      },
      "source": [
        "dataset.head(5)"
      ],
      "execution_count": 4,
      "outputs": [
        {
          "output_type": "execute_result",
          "data": {
            "text/html": [
              "<div>\n",
              "<style scoped>\n",
              "    .dataframe tbody tr th:only-of-type {\n",
              "        vertical-align: middle;\n",
              "    }\n",
              "\n",
              "    .dataframe tbody tr th {\n",
              "        vertical-align: top;\n",
              "    }\n",
              "\n",
              "    .dataframe thead th {\n",
              "        text-align: right;\n",
              "    }\n",
              "</style>\n",
              "<table border=\"1\" class=\"dataframe\">\n",
              "  <thead>\n",
              "    <tr style=\"text-align: right;\">\n",
              "      <th></th>\n",
              "      <th>Serial No.</th>\n",
              "      <th>GRE Score</th>\n",
              "      <th>TOEFL Score</th>\n",
              "      <th>University Rating</th>\n",
              "      <th>SOP</th>\n",
              "      <th>LOR</th>\n",
              "      <th>CGPA</th>\n",
              "      <th>Research</th>\n",
              "      <th>Chance of Admit</th>\n",
              "    </tr>\n",
              "  </thead>\n",
              "  <tbody>\n",
              "    <tr>\n",
              "      <th>0</th>\n",
              "      <td>1</td>\n",
              "      <td>337</td>\n",
              "      <td>118</td>\n",
              "      <td>4</td>\n",
              "      <td>4.5</td>\n",
              "      <td>4.5</td>\n",
              "      <td>9.65</td>\n",
              "      <td>1</td>\n",
              "      <td>0.92</td>\n",
              "    </tr>\n",
              "    <tr>\n",
              "      <th>1</th>\n",
              "      <td>2</td>\n",
              "      <td>324</td>\n",
              "      <td>107</td>\n",
              "      <td>4</td>\n",
              "      <td>4.0</td>\n",
              "      <td>4.5</td>\n",
              "      <td>8.87</td>\n",
              "      <td>1</td>\n",
              "      <td>0.76</td>\n",
              "    </tr>\n",
              "    <tr>\n",
              "      <th>2</th>\n",
              "      <td>3</td>\n",
              "      <td>316</td>\n",
              "      <td>104</td>\n",
              "      <td>3</td>\n",
              "      <td>3.0</td>\n",
              "      <td>3.5</td>\n",
              "      <td>8.00</td>\n",
              "      <td>1</td>\n",
              "      <td>0.72</td>\n",
              "    </tr>\n",
              "    <tr>\n",
              "      <th>3</th>\n",
              "      <td>4</td>\n",
              "      <td>322</td>\n",
              "      <td>110</td>\n",
              "      <td>3</td>\n",
              "      <td>3.5</td>\n",
              "      <td>2.5</td>\n",
              "      <td>8.67</td>\n",
              "      <td>1</td>\n",
              "      <td>0.80</td>\n",
              "    </tr>\n",
              "    <tr>\n",
              "      <th>4</th>\n",
              "      <td>5</td>\n",
              "      <td>314</td>\n",
              "      <td>103</td>\n",
              "      <td>2</td>\n",
              "      <td>2.0</td>\n",
              "      <td>3.0</td>\n",
              "      <td>8.21</td>\n",
              "      <td>0</td>\n",
              "      <td>0.65</td>\n",
              "    </tr>\n",
              "  </tbody>\n",
              "</table>\n",
              "</div>"
            ],
            "text/plain": [
              "   Serial No.  GRE Score  TOEFL Score  ...  CGPA  Research  Chance of Admit \n",
              "0           1        337          118  ...  9.65         1              0.92\n",
              "1           2        324          107  ...  8.87         1              0.76\n",
              "2           3        316          104  ...  8.00         1              0.72\n",
              "3           4        322          110  ...  8.67         1              0.80\n",
              "4           5        314          103  ...  8.21         0              0.65\n",
              "\n",
              "[5 rows x 9 columns]"
            ]
          },
          "metadata": {
            "tags": []
          },
          "execution_count": 4
        }
      ]
    },
    {
      "cell_type": "code",
      "metadata": {
        "id": "Upp9Sagn4HYT",
        "colab_type": "code",
        "colab": {}
      },
      "source": [
        "y=dataset['Chance of Admit ']"
      ],
      "execution_count": 0,
      "outputs": []
    },
    {
      "cell_type": "code",
      "metadata": {
        "id": "bLr9QKUV5tqe",
        "colab_type": "code",
        "colab": {}
      },
      "source": [
        "X=dataset.drop(['Serial No.','Chance of Admit '],axis=1)"
      ],
      "execution_count": 0,
      "outputs": []
    },
    {
      "cell_type": "code",
      "metadata": {
        "id": "E7ItGlKaqR7N",
        "colab_type": "code",
        "outputId": "9e9dbd7f-3642-4d45-817e-1b17114ff53b",
        "colab": {
          "base_uri": "https://localhost:8080/",
          "height": 34
        }
      },
      "source": [
        "X.shape"
      ],
      "execution_count": 7,
      "outputs": [
        {
          "output_type": "execute_result",
          "data": {
            "text/plain": [
              "(400, 7)"
            ]
          },
          "metadata": {
            "tags": []
          },
          "execution_count": 7
        }
      ]
    },
    {
      "cell_type": "code",
      "metadata": {
        "id": "ZbSdOFWcqR-K",
        "colab_type": "code",
        "outputId": "6dced3d8-f034-49e8-f610-788e5eb2d885",
        "colab": {
          "base_uri": "https://localhost:8080/",
          "height": 34
        }
      },
      "source": [
        "y.shape"
      ],
      "execution_count": 8,
      "outputs": [
        {
          "output_type": "execute_result",
          "data": {
            "text/plain": [
              "(400,)"
            ]
          },
          "metadata": {
            "tags": []
          },
          "execution_count": 8
        }
      ]
    },
    {
      "cell_type": "code",
      "metadata": {
        "id": "87HamJ_8qSBx",
        "colab_type": "code",
        "outputId": "87bb87f4-9220-46eb-a332-89fc6b4d69a5",
        "colab": {
          "base_uri": "https://localhost:8080/",
          "height": 225
        }
      },
      "source": [
        "X_train=X[0:325]\n",
        "y_train=y[0:325]\n",
        "X_test=X[326:400]\n",
        "y_test=y[326:400]\n",
        "\n",
        "X_train[\"x0\"]=1\n",
        "X_test[\"x0\"]=1\n"
      ],
      "execution_count": 9,
      "outputs": [
        {
          "output_type": "stream",
          "text": [
            "/usr/local/lib/python3.6/dist-packages/ipykernel_launcher.py:6: SettingWithCopyWarning: \n",
            "A value is trying to be set on a copy of a slice from a DataFrame.\n",
            "Try using .loc[row_indexer,col_indexer] = value instead\n",
            "\n",
            "See the caveats in the documentation: https://pandas.pydata.org/pandas-docs/stable/user_guide/indexing.html#returning-a-view-versus-a-copy\n",
            "  \n",
            "/usr/local/lib/python3.6/dist-packages/ipykernel_launcher.py:7: SettingWithCopyWarning: \n",
            "A value is trying to be set on a copy of a slice from a DataFrame.\n",
            "Try using .loc[row_indexer,col_indexer] = value instead\n",
            "\n",
            "See the caveats in the documentation: https://pandas.pydata.org/pandas-docs/stable/user_guide/indexing.html#returning-a-view-versus-a-copy\n",
            "  import sys\n"
          ],
          "name": "stderr"
        }
      ]
    },
    {
      "cell_type": "code",
      "metadata": {
        "id": "2DX2ENWBrGFH",
        "colab_type": "code",
        "colab": {}
      },
      "source": [
        "def hypo(x,theta):\n",
        " return np.dot(x,theta)"
      ],
      "execution_count": 0,
      "outputs": []
    },
    {
      "cell_type": "code",
      "metadata": {
        "id": "nMraDRU_rGO5",
        "colab_type": "code",
        "colab": {
          "base_uri": "https://localhost:8080/",
          "height": 72
        },
        "outputId": "29f8eedd-5741-47a5-a30c-544cee914149"
      },
      "source": [
        "import seaborn as sns"
      ],
      "execution_count": 11,
      "outputs": [
        {
          "output_type": "stream",
          "text": [
            "/usr/local/lib/python3.6/dist-packages/statsmodels/tools/_testing.py:19: FutureWarning: pandas.util.testing is deprecated. Use the functions in the public API at pandas.testing instead.\n",
            "  import pandas.util.testing as tm\n"
          ],
          "name": "stderr"
        }
      ]
    },
    {
      "cell_type": "code",
      "metadata": {
        "id": "Rho8Lr4GrGUX",
        "colab_type": "code",
        "colab": {}
      },
      "source": [
        "import random\n",
        "theta=[]\n",
        "\n",
        "for i in range(8):\n",
        "  x=random.random()\n",
        "  theta.append(x);\n",
        "\n",
        "theta=np.array(theta)"
      ],
      "execution_count": 0,
      "outputs": []
    },
    {
      "cell_type": "code",
      "metadata": {
        "id": "l-ek5Ws5sPZN",
        "colab_type": "code",
        "outputId": "c08bb09b-8ea0-4264-bb78-d7b0c6016311",
        "colab": {
          "base_uri": "https://localhost:8080/",
          "height": 34
        }
      },
      "source": [
        "h=hypo(X_train,theta.transpose())\n",
        "h.shape"
      ],
      "execution_count": 13,
      "outputs": [
        {
          "output_type": "execute_result",
          "data": {
            "text/plain": [
              "(325,)"
            ]
          },
          "metadata": {
            "tags": []
          },
          "execution_count": 13
        }
      ]
    },
    {
      "cell_type": "code",
      "metadata": {
        "id": "a6XhpGMVsPa3",
        "colab_type": "code",
        "colab": {}
      },
      "source": [
        "def mse(coef, x, y): \n",
        "    h=hypo(x,coef)\n",
        "    return np.mean((h - y)**2)/2"
      ],
      "execution_count": 0,
      "outputs": []
    },
    {
      "cell_type": "code",
      "metadata": {
        "id": "J74CX2dtsPeN",
        "colab_type": "code",
        "colab": {}
      },
      "source": [
        "def gradients(coef, x, y): \n",
        "    return np.mean(x.transpose()*(np.dot(x, coef) - y), axis = 1)"
      ],
      "execution_count": 0,
      "outputs": []
    },
    {
      "cell_type": "code",
      "metadata": {
        "id": "relqDjCasPf1",
        "colab_type": "code",
        "colab": {}
      },
      "source": [
        "def multilinear_regression(coef, x, y, lr, b1 = 0.9, b2 = 0.999, epsilon = 1e-8): \n",
        "    prev_error = 0\n",
        "    m_coef = np.zeros(coef.shape) \n",
        "    v_coef = np.zeros(coef.shape) \n",
        "    moment_m_coef = np.zeros(coef.shape) \n",
        "    moment_v_coef = np.zeros(coef.shape) \n",
        "    t = 0\n",
        "  \n",
        "    while True: \n",
        "        error = mse(coef, x, y) \n",
        "        if abs(error - prev_error) <= epsilon: \n",
        "            break\n",
        "        prev_error = error \n",
        "        grad = gradients(coef, x, y) \n",
        "        t += 1\n",
        "        m_coef = b1 * m_coef + (1-b1)*grad \n",
        "        v_coef = b2 * v_coef + (1-b2)*grad**2\n",
        "        moment_m_coef = m_coef / (1-b1**t) \n",
        "        moment_v_coef = v_coef / (1-b2**t) \n",
        "  \n",
        "        delta = ((lr / moment_v_coef**0.5 + 1e-8) * \n",
        "                 (b1 * moment_m_coef + (1-b1)*grad/(1-b1**t))) \n",
        "  \n",
        "        coef = np.subtract(coef, delta) \n",
        "    return coef"
      ],
      "execution_count": 0,
      "outputs": []
    },
    {
      "cell_type": "code",
      "metadata": {
        "id": "IHyLLxUEsPjr",
        "colab_type": "code",
        "outputId": "cc9d432c-6c05-41dd-c1c6-bfe51374430d",
        "colab": {
          "base_uri": "https://localhost:8080/",
          "height": 406
        }
      },
      "source": [
        "plt.plot(X_train,y_train,'r')\n",
        "plt.plot(X_train,h,'g')"
      ],
      "execution_count": 17,
      "outputs": [
        {
          "output_type": "execute_result",
          "data": {
            "text/plain": [
              "[<matplotlib.lines.Line2D at 0x7f5783e29a90>,\n",
              " <matplotlib.lines.Line2D at 0x7f5783d8b9e8>,\n",
              " <matplotlib.lines.Line2D at 0x7f5783d8bb38>,\n",
              " <matplotlib.lines.Line2D at 0x7f5783d8bc88>,\n",
              " <matplotlib.lines.Line2D at 0x7f5783d8bdd8>,\n",
              " <matplotlib.lines.Line2D at 0x7f5783d8bf28>,\n",
              " <matplotlib.lines.Line2D at 0x7f5783d950b8>,\n",
              " <matplotlib.lines.Line2D at 0x7f5783d95208>]"
            ]
          },
          "metadata": {
            "tags": []
          },
          "execution_count": 17
        },
        {
          "output_type": "display_data",
          "data": {
            "image/png": "[encoded data removed]",
            "text/plain": [
              "<Figure size 360x288 with 1 Axes>"
            ]
          },
          "metadata": {
            "tags": [],
            "needs_background": "light"
          }
        }
      ]
    },
    {
      "cell_type": "code",
      "metadata": {
        "id": "__V9eft6wxxv",
        "colab_type": "code",
        "colab": {}
      },
      "source": [
        "theta=multilinear_regression(theta, X_train, y_train, 1e-1)"
      ],
      "execution_count": 0,
      "outputs": []
    },
    {
      "cell_type": "code",
      "metadata": {
        "id": "ZkXDUj0ZwylW",
        "colab_type": "code",
        "colab": {}
      },
      "source": [
        "h=hypo(X_train,theta.transpose())"
      ],
      "execution_count": 0,
      "outputs": []
    },
    {
      "cell_type": "code",
      "metadata": {
        "colab_type": "code",
        "outputId": "bcb4de8e-0ac2-43ef-d744-16e0eb2a4314",
        "id": "f_B6zdfVxS37",
        "colab": {
          "base_uri": "https://localhost:8080/",
          "height": 408
        }
      },
      "source": [
        "plt.plot(X_train,y_train,'r')\n",
        "\n"
      ],
      "execution_count": 20,
      "outputs": [
        {
          "output_type": "execute_result",
          "data": {
            "text/plain": [
              "[<matplotlib.lines.Line2D at 0x7f57826155f8>,\n",
              " <matplotlib.lines.Line2D at 0x7f578363eba8>,\n",
              " <matplotlib.lines.Line2D at 0x7f578363ecf8>,\n",
              " <matplotlib.lines.Line2D at 0x7f578363ee48>,\n",
              " <matplotlib.lines.Line2D at 0x7f578363ef98>,\n",
              " <matplotlib.lines.Line2D at 0x7f57825ff128>,\n",
              " <matplotlib.lines.Line2D at 0x7f57825ff278>,\n",
              " <matplotlib.lines.Line2D at 0x7f57825ff3c8>]"
            ]
          },
          "metadata": {
            "tags": []
          },
          "execution_count": 20
        },
        {
          "output_type": "display_data",
          "data": {
            "image/png": "[encoded data removed]",
            "text/plain": [
              "<Figure size 360x288 with 1 Axes>"
            ]
          },
          "metadata": {
            "tags": [],
            "needs_background": "light"
          }
        }
      ]
    },
    {
      "cell_type": "code",
      "metadata": {
        "id": "Z1qUf4KnyqoH",
        "colab_type": "code",
        "outputId": "b4b75ba3-6a4f-452f-a788-a0201cffcb5e",
        "colab": {
          "base_uri": "https://localhost:8080/",
          "height": 404
        }
      },
      "source": [
        "plt.plot(X_train,h,'g')\n"
      ],
      "execution_count": 21,
      "outputs": [
        {
          "output_type": "execute_result",
          "data": {
            "text/plain": [
              "[<matplotlib.lines.Line2D at 0x7f5783d8b860>,\n",
              " <matplotlib.lines.Line2D at 0x7f57825927f0>,\n",
              " <matplotlib.lines.Line2D at 0x7f5782592940>,\n",
              " <matplotlib.lines.Line2D at 0x7f5782592a90>,\n",
              " <matplotlib.lines.Line2D at 0x7f5782592be0>,\n",
              " <matplotlib.lines.Line2D at 0x7f5782592d30>,\n",
              " <matplotlib.lines.Line2D at 0x7f5782592e80>,\n",
              " <matplotlib.lines.Line2D at 0x7f5782592fd0>]"
            ]
          },
          "metadata": {
            "tags": []
          },
          "execution_count": 21
        },
        {
          "output_type": "display_data",
          "data": {
            "image/png": "[encoded data removed]",
            "text/plain": [
              "<Figure size 360x288 with 1 Axes>"
            ]
          },
          "metadata": {
            "tags": [],
            "needs_background": "light"
          }
        }
      ]
    },
    {
      "cell_type": "code",
      "metadata": {
        "id": "TU2xy25_p8RE",
        "colab_type": "code",
        "colab": {}
      },
      "source": [
        " from sklearn.metrics import r2_score"
      ],
      "execution_count": 0,
      "outputs": []
    },
    {
      "cell_type": "code",
      "metadata": {
        "id": "_X6VUBTiqIVH",
        "colab_type": "code",
        "colab": {}
      },
      "source": [
        "h2=hypo(X_test,theta)\n"
      ],
      "execution_count": 0,
      "outputs": []
    },
    {
      "cell_type": "code",
      "metadata": {
        "id": "5bCj_7AYrWzK",
        "colab_type": "code",
        "outputId": "f2e6a3ff-b5be-41ca-f096-9491c9b2b0f3",
        "colab": {
          "base_uri": "https://localhost:8080/",
          "height": 34
        }
      },
      "source": [
        "r2_score(y_test,h2)"
      ],
      "execution_count": 24,
      "outputs": [
        {
          "output_type": "execute_result",
          "data": {
            "text/plain": [
              "0.7433825340793356"
            ]
          },
          "metadata": {
            "tags": []
          },
          "execution_count": 24
        }
      ]
    }
  ]
}